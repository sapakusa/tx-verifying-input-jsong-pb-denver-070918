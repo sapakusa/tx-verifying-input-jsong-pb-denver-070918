{
 "cells": [
  {
   "cell_type": "markdown",
   "metadata": {},
   "source": [
    "# Verifying Transactions\n",
    "\n",
    "This is a review of previous concepts."
   ]
  },
  {
   "cell_type": "markdown",
   "metadata": {},
   "source": [
    "### Test Driven Exercise"
   ]
  },
  {
   "cell_type": "code",
   "execution_count": null,
   "metadata": {},
   "outputs": [],
   "source": [
    "from tx import Tx\n",
    "from io import BytesIO\n",
    "from ecc import S256Point, Signature\n",
    "\n",
    "class Tx(Tx):\n",
    "\n",
    "    \n",
    "    def verify_input(self, input_index):\n",
    "        '''Returns whether the input has a valid signature'''\n",
    "        # get the relevant input\n",
    "        # parse the point from the sec format (tx_in.sec_pubkey())\n",
    "        # parse the signature from the der format (tx_in.der_signature())\n",
    "        # get the hash type from the input (tx_in.hash_type())\n",
    "        # get the sig_hash (z)\n",
    "        # use point.verify on the z and signature\n",
    "        pass"
   ]
  }
 ],
 "metadata": {
  "kernelspec": {
   "display_name": "Python 3",
   "language": "python",
   "name": "python3"
  },
  "language_info": {
   "codemirror_mode": {
    "name": "ipython",
    "version": 3
   },
   "file_extension": ".py",
   "mimetype": "text/x-python",
   "name": "python",
   "nbconvert_exporter": "python",
   "pygments_lexer": "ipython3",
   "version": "3.6.4"
  }
 },
 "nbformat": 4,
 "nbformat_minor": 2
}
